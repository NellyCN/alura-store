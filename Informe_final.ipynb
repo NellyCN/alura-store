{
  "nbformat": 4,
  "nbformat_minor": 0,
  "metadata": {
    "colab": {
      "provenance": [],
      "authorship_tag": "ABX9TyPcNkYXv5qZcNNrZ812S9Sp",
      "include_colab_link": true
    },
    "kernelspec": {
      "name": "python3",
      "display_name": "Python 3"
    },
    "language_info": {
      "name": "python"
    }
  },
  "cells": [
    {
      "cell_type": "markdown",
      "metadata": {
        "id": "view-in-github",
        "colab_type": "text"
      },
      "source": [
        "<a href=\"https://colab.research.google.com/github/NellyCN/alura-store/blob/main/Informe_final.ipynb\" target=\"_parent\"><img src=\"https://colab.research.google.com/assets/colab-badge.svg\" alt=\"Open In Colab\"/></a>"
      ]
    },
    {
      "cell_type": "markdown",
      "source": [
        "#**📊 Informe de Evaluación de Desempeño de Tiendas – Decisión Estratégica del Sr. Juan**"
      ],
      "metadata": {
        "id": "GWEci1oZ_cRq"
      }
    },
    {
      "cell_type": "markdown",
      "source": [
        "##**Introducción**"
      ],
      "metadata": {
        "id": "zz8_jdTY_py4"
      }
    },
    {
      "cell_type": "markdown",
      "source": [
        "El Sr. Juan busca tomar una decisión estratégica sobre cuál de sus cuatro tiendas debe vender con el objetivo de liberar capital e invertir en un nuevo negocio. Para tomar una decisión informada, se ha realizado un análisis detallado de los siguientes aspectos clave del desempeño de cada tienda:\n",
        "\n",
        "1.   Facturación total por tienda.\n",
        "2.   Categorías más populares (por cantidad de productos vendidos y por ventas en soles).\n",
        "\n",
        "3.   Promedio de evaluación por tienda.\n",
        "\n",
        "4.   Productos más y menos vendidos por tienda.\n",
        "\n",
        "5.   Costo promedio de envío por tienda.\n",
        "\n",
        "Este informe tiene como objetivo identificar cuál de las tiendas tiene el rendimiento más bajo de forma integral, y así recomendar su venta."
      ],
      "metadata": {
        "id": "zI5LwXv4_0lh"
      }
    },
    {
      "cell_type": "markdown",
      "source": [
        "##**Desarrollo del Análisis**"
      ],
      "metadata": {
        "id": "5TyvHTGtDaZE"
      }
    },
    {
      "cell_type": "markdown",
      "source": [
        "###📌 **1. Facturación Total por Tienda**\n",
        "\n",
        "\n",
        "|Tienda  |Facturación Total|Porcentaje|\n",
        "|--------|----------------|-----------|\n",
        "|Tienda 1| S/. 1,150,880,400|26.13%|\n",
        "|Tienda 2|S/. 1,116,343,500|25.35%|\n",
        "|Tienda 3|S/. 1,098,019,600|24.93%|\n",
        "|Tienda 4|S/. 1,038,375,700|23.58% ← más baja|\n",
        "|--------------|-------------------------------|----------|\n",
        "|Facturación Total| S/. 4,403,619,200.00|100%|\n",
        "\n",
        "\n",
        "####🔍 Observación:\n",
        "✔️ Tienda 1 lidera la facturación.\n",
        "\n",
        "❗ La Tienda 4 tiene la facturación más baja, representando un 23.58% del total general."
      ],
      "metadata": {
        "id": "fxrbCI5ADeQs"
      }
    },
    {
      "cell_type": "markdown",
      "source": [
        "###**📌 2. Categorías Más Populares por Cantidad y Facturación**\n",
        "\n",
        "**Cantidad de productos vendidos por categoría (por tienda):**\n",
        "\n",
        "|Categoría\t|🥇Más productos vendidos|\n",
        "|------------|----------------------|\n",
        "|Artículos hogar\t|      Tienda 4 (201)|\n",
        "|Deportes y diversión|\tEmpate: Tiendas 3 y 4 (277)|\n",
        "|Electrodomésticos|\tTienda 1 (312)|\n",
        "|Electrónicos|\tEmpate: Tiendas 3 y 4 (451)|\n",
        "|Instrumentos musicales\t|Tienda 2 (224)|\n",
        "|Juguetes\t|Tienda 4 (338)|\n",
        "|Libros\t|Tienda 2 (197)|\n",
        "|Muebles\t|Tienda 3 (499)|\n",
        "\n",
        "**Ventas por categoría (en S/. miles):**\n",
        "\n",
        "|Categoría\t|🥇Mayor facturación|\n",
        "|-----------|---------------------|\n",
        "|Electrónicos|\tTienda 1 (S/. 429M)|\n",
        "|Electrodomésticos|\tTienda 1 (S/. 363M)|\n",
        "|Muebles\t|Tienda 3 (S/. 201M)|\n",
        "|Instrumentos musicales|\tTienda 2 (S/. 105M)|\n",
        "|Deportes y Diversión|Tienda 1 (S/. 39M)|\n",
        "|Juguetes\t|Tienda 4 (S/. 20.2M)|\n",
        "\n",
        "####🔍 Observación:\n",
        "\n",
        "✔️ _Las categorías con **mayor volumen de ventas en todas las tiendas son Muebles y Electrónicos.**_\n",
        "\n",
        "✔️ _**Tienda 3** lidera en **Ventas totales de muebles.**_\n",
        "\n",
        "❗ _Tienda 4 tiene menor volumen en electrodomésticos._\n",
        "\n",
        "❗ _Aunque **Tienda 4** vende más artículos en ciertas categorías, sus **ingresos son menores respecto a otras tiendas.**_\n"
      ],
      "metadata": {
        "id": "4mwKhniFDmEs"
      }
    },
    {
      "cell_type": "markdown",
      "source": [
        "###**📌 3. Promedio de Evaluación de los Clientes**\n",
        "\n",
        "| Tienda\t| Calificación Promedio |\n",
        "|------------|--------------------------|\n",
        "|Tienda 1 |\t  3.977   |\n",
        "|Tienda 2 | \t4.037   |\n",
        "|Tienda 3 |   4.048 ← mejor evaluada|\n",
        "|Tienda 4 |   3.996   |\n",
        "|---------------------|-----------|\n",
        "|Promedio Calificación|   4.015   |\n",
        "\n",
        "🔍 Observación:\n",
        "\n",
        "✔️ _Las tiendas 2 y 3 están sobre la calificación promedio total (>4.015), pero Tienda 3 es la mejor evaluada por los clientes._\n",
        "\n",
        "❗ _Tienda 1 y 4 están por debajo del promedio (<4.015), siendo la peor evaluada La Tienda 1._"
      ],
      "metadata": {
        "id": "2NYYwAmJF9vK"
      }
    },
    {
      "cell_type": "markdown",
      "source": [
        "###**📌 4. Productos Más y Menos Vendidos por Tienda**\n",
        "\n",
        "En todas las tiendas hay un balance en los productos vendidos, sin embargo:\n",
        "\n",
        "- **Tienda 1** lidera en variedad vendida en categorías de alto valor como **electrodomésticos** y en Total de Ventas en categorías de alto valor de **electrónicos y electrodomésticos**\n",
        "\n",
        "- **Tienda 4** muestra menor rotación en productos de alto valor como refrigeradores y lavadoras de ropa (38 unid) y tiene un volumen mayor en productos de menor precio como **juguetes y artículos para el hogar.**\n",
        "\n",
        "####🔍 Observación:\n",
        "\n",
        "❗ _La Tienda 4 no lidera en ninguna categoría de alto valor ni destaca por vender productos premium en cantidad._"
      ],
      "metadata": {
        "id": "nrFBcrmBGZBB"
      }
    },
    {
      "cell_type": "markdown",
      "source": [
        "###**📌 5. Costo Promedio de Envío**\n",
        "\n",
        "**Objetivo:** Saber cuánto se gasta en promedio en envíos por tienda.\n",
        "\n",
        "| Tienda     | Costo Promedio de Envío |\n",
        "|------------|--------------------------|\n",
        "| Tienda 1   | S/. 26,018.61            |\n",
        "| Tienda 2   | S/. 25,216.24            |\n",
        "| Tienda 3   | S/. 24,805.68            |\n",
        "| Tienda 4   | **S/. 23,459.46 ←** más bajo |\n",
        "\n",
        "\n",
        "####Observación:\n",
        " _🔍 La Tienda 4 tiene el menor costo de envío, lo que es una ventaja operativa. Sin embargo, esto no compensa su bajo desempeño general._"
      ],
      "metadata": {
        "id": "dR8hx44WGuKU"
      }
    },
    {
      "cell_type": "markdown",
      "source": [
        "##**Conclusión y Recomendación Final**"
      ],
      "metadata": {
        "id": "Tm5hlSebHKcW"
      }
    },
    {
      "cell_type": "markdown",
      "source": [
        "Luego de analizar detalladamente las cinco dimensiones evaluadas, se concluye lo siguiente:\n",
        "\n",
        "\n",
        "##**✅ Fortalezas de la Tienda 4:**\n",
        "- Menor costo de envío.\n",
        "\n",
        "- Buen volumen de venta en categorías de menor valor (juguetes, artículos del hogar).\n",
        "\n",
        "##**❌ Debilidades de la Tienda 4:**\n",
        "- Menor facturación total.\n",
        "\n",
        "- No lidera en ninguna categoría de alto valor.\n",
        "\n",
        "- Calificación de clientes por debajo del promedio.\n",
        "\n",
        "- Menor desempeño en productos premium.\n",
        "\n",
        "##**🎯 Recomendación Final:**\n",
        "\n",
        "**El Sr. Juan debería vender la Tienda 4.**\n",
        "\n",
        "###Justificación:\n",
        "\n",
        "- Tiene el **menor rendimiento económico general.**\n",
        "\n",
        "- **No lidera en ninguna categoría estratégica** de productos.\n",
        "\n",
        "- El costo de envío bajo **no compensa** la baja facturación y menor satisfacción del cliente.\n",
        "\n",
        "- Es la **tienda menos rentable** y **menos posicionada en el mercado** frente a las otras.\n",
        "\n",
        "Esta venta permitiría liberar capital que puede ser **reinvertido en un nuevo negocio con mayor potencial** de crecimiento o incluso para fortalecer las tiendas con mejor desempeño."
      ],
      "metadata": {
        "id": "qEPlilrXHP3n"
      }
    }
  ]
}